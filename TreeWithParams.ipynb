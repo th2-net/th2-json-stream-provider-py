{
 "cells": [
  {
   "cell_type": "code",
   "execution_count": 1,
   "id": "48753a0c-b4ff-48a6-acb0-f5cb77492776",
   "metadata": {
    "editable": true,
    "slideshow": {
     "slide_type": ""
    },
    "tags": [
     "parameters"
    ]
   },
   "outputs": [],
   "source": [
    "timestamp: float = 0.0\n",
    "#test1\n",
    "alias: str = ''\n",
    "#test1\n",
    "book: str = ''\n",
    "output_path: str = ''"
   ]
  },
  {
   "cell_type": "code",
   "execution_count": null,
   "id": "d453dde6-3bdf-4726-9540-299f9fa38efb",
   "metadata": {
    "editable": true,
    "slideshow": {
     "slide_type": ""
    },
    "tags": []
   },
   "outputs": [],
   "source": [
    "def addParameters(data):\n",
    "    paramData = {\n",
    "        'parameters_data': {\n",
    "            'timestamp': timestamp,\n",
    "            'alias': alias,\n",
    "            'book': book,\n",
    "            }\n",
    "    }\n",
    "    return {\n",
    "        **data,\n",
    "        **paramData\n",
    "    }"
   ]
  },
  {
   "cell_type": "code",
   "execution_count": null,
   "id": "a53596d3-8d6d-48bd-91ed-0cf1630d81eb",
   "metadata": {
    "editable": true,
    "slideshow": {
     "slide_type": ""
    },
    "tags": []
   },
   "outputs": [],
   "source": [
    "import json\n",
    "with open(\"events_tree_summary.json\", \"r\") as file:\n",
    "    data = json.load(file)\n",
    "\n",
    "if output_path != '':\n",
    "    out_file = open(output_path, \"w\") \n",
    "    json.dump(addParameters(data), out_file, indent = 6)\n",
    "    out_file.close()"
   ]
  }
 ],
 "metadata": {
  "kernelspec": {
   "display_name": "Python 3 (ipykernel)",
   "language": "python",
   "name": "python3"
  },
  "language_info": {
   "codemirror_mode": {
    "name": "ipython",
    "version": 3
   },
   "file_extension": ".py",
   "mimetype": "text/x-python",
   "name": "python",
   "nbconvert_exporter": "python",
   "pygments_lexer": "ipython3",
   "version": "3.10.8"
  }
 },
 "nbformat": 4,
 "nbformat_minor": 5
}
