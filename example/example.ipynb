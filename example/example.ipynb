{
 "cells": [
  {
   "cell_type": "code",
   "execution_count": 1,
   "metadata": {
    "tags": [
     "parameters"
    ]
   },
   "outputs": [],
   "source": [
    "output_path = 'output.jsonl'\n",
    "customization_path = 'customization.json'\n",
    "\n",
    "test_1_timestamp = \"2024-07-01T05:06:59.664Z\"\n",
    "test_2_timestamp = \"2024-07-01T05:06:59.665Z\"\n",
    "test_lambda_1_pycode = \"\"\"lambda item: 30000 < item['int'] < 120000 or 3.3 < item['float'] < 40.0\"\"\"\n",
    "\n",
    "str_1_test = \"str_100_test\"\n",
    "str_2_test: str = \"str_200_test\"\n",
    "int_1_test = 100\n",
    "int_2_test: int = 200\n",
    "float_1_test = 0.1\n",
    "float_2_test: float = 0.2\n",
    "bool_1_test = False\n",
    "bool_2_test = True"
   ]
  },
  {
   "cell_type": "code",
   "execution_count": 2,
   "metadata": {},
   "outputs": [],
   "source": [
    "import json\n",
    "import time\n",
    "import random\n",
    "from datetime import datetime\n",
    "\n",
    "table_header = ['int', 'float']\n",
    "data = []\n",
    "for pos in range(1, 100):\n",
    "    timestamp = time.time_ns()\n",
    "    datetime_timestamp = datetime.fromtimestamp(timestamp / 1e9)\n",
    "    base = random.randrange(0, 1000)\n",
    "\n",
    "    array = [\n",
    "        {'#display-name': str_1_test + ':' + test_1_timestamp +':' + str(bool_1_test), 'name': str_1_test, 'int': base * int_1_test,\n",
    "         'float': base * float_1_test, 'flag': bool_1_test, 'custom_time': test_1_timestamp},\n",
    "        {'#display-name': str_2_test + ':' + test_2_timestamp + ':' + str(bool_2_test), 'name': str_2_test, 'int': base * int_2_test,\n",
    "         'float': base * float_2_test, 'flag': bool_2_test, 'custom_time': test_2_timestamp},\n",
    "    ]\n",
    "\n",
    "    filtered = list(filter(eval(test_lambda_1_pycode), array))\n",
    "\n",
    "    line = {\n",
    "        '#display-timestamp': timestamp,\n",
    "        '#display-name': str(pos) + ' - ' + str(datetime_timestamp),\n",
    "        '#display-table': [table_header, *[[item['int'], item['float']] for item in filtered]],\n",
    "        'results': len(filtered),\n",
    "        'array': filtered,\n",
    "    }\n",
    "    data.append(line)\n",
    "\n",
    "with open(output_path, \"w\") as out_file:\n",
    "    for orig_order in data:\n",
    "        json.dump(orig_order, out_file)\n",
    "        out_file.write('\\n')\n",
    "\n",
    "with (open(customization_path, \"w\") as customization_file):\n",
    "    r = lambda: random.randint(0,255)\n",
    "    customization = [\n",
    "        {'pattern': str_1_test, 'color': '#%02X%02X%02X' % (r(), r(), r())},\n",
    "        {'pattern': str_2_test, 'color': '#%02X%02X%02X' % (r(), r(), r())},\n",
    "    ]\n",
    "    json.dump(customization, customization_file, indent=4)"
   ]
  },
  {
   "cell_type": "code",
   "execution_count": null,
   "metadata": {},
   "outputs": [],
   "source": []
  }
 ],
 "metadata": {
  "kernelspec": {
   "display_name": "Python 3 (ipykernel)",
   "language": "python",
   "name": "python3"
  },
  "language_info": {
   "codemirror_mode": {
    "name": "ipython",
    "version": 3
   },
   "file_extension": ".py",
   "mimetype": "text/x-python",
   "name": "python",
   "nbconvert_exporter": "python",
   "pygments_lexer": "ipython3",
   "version": "3.10.12"
  }
 },
 "nbformat": 4,
 "nbformat_minor": 4
}
